{
 "metadata": {
  "language_info": {
   "codemirror_mode": {
    "name": "ipython",
    "version": 3
   },
   "file_extension": ".py",
   "mimetype": "text/x-python",
   "name": "python",
   "nbconvert_exporter": "python",
   "pygments_lexer": "ipython3",
   "version": "3.7.10"
  },
  "orig_nbformat": 2,
  "kernelspec": {
   "name": "python3710jvsc74a57bd0df9440572eb606f9e8681692e07c753c8883ad880fdfa9121cfd05ecefba0f1e",
   "display_name": "Python 3.7.10 64-bit ('base': conda)"
  }
 },
 "nbformat": 4,
 "nbformat_minor": 2,
 "cells": [
  {
   "source": [
    "# Project 2021\n",
    "\n",
    "#### MSc in Data Analytics 2021 \n",
    "#### National College of Ireland \n",
    "#### Dublin, Ireland \n",
    "#### Module: Database and Analytics Programming (H9DAP)\n",
    "#### Lecturer: Athanasios Staikopoulos"
   ],
   "cell_type": "markdown",
   "metadata": {}
  },
  {
   "source": [
    "Load Libraries"
   ],
   "cell_type": "markdown",
   "metadata": {}
  },
  {
   "cell_type": "code",
   "execution_count": 2,
   "metadata": {},
   "outputs": [],
   "source": [
    "#Allows to reload custom module modifications\n",
    "%load_ext autoreload\n",
    "%autoreload 2"
   ]
  },
  {
   "cell_type": "code",
   "execution_count": 3,
   "metadata": {},
   "outputs": [],
   "source": [
    "#Import libraries\n",
    "import pandas as pd\n",
    "#Imports custom functions from 'mypackage'\n",
    "from  mypackage import functions  # Custom  misc functions\n",
    "from  mypackage import mongo      # Custom functions for MongoDB\n",
    "from  mypackage import postgresql # Custom functions for PostgreSQL"
   ]
  },
  {
   "source": [
    "### Get DataSet #1\n"
   ],
   "cell_type": "markdown",
   "metadata": {}
  },
  {
   "cell_type": "code",
   "execution_count": 24,
   "metadata": {},
   "outputs": [
    {
     "output_type": "stream",
     "name": "stdout",
     "text": [
      "\u001b[5m\u001b[7m\u001b[37m[04/25/2021-15:11:52]: \u001b[0mConnecting to PostgeSQL ...\n",
      "\u001b[5m\u001b[7m\u001b[37m[04/25/2021-15:11:53]: \u001b[0mQueryng table mex_mort ...\n",
      "\u001b[5m\u001b[7m\u001b[37m[04/25/2021-15:11:55]: \u001b[0m\u001b[5m\u001b[7m\u001b[32mOK: Sucesfully importred mex_mort into dataframe columns: 29 - rows: 10469\u001b[0m\n",
      "\u001b[5m\u001b[7m\u001b[37m[04/25/2021-15:11:55]: \u001b[0mClosing DB connection...\n"
     ]
    }
   ],
   "source": [
    "mex_mort = postgresql.getTableToDataframe('mex_mort')"
   ]
  },
  {
   "cell_type": "code",
   "execution_count": 25,
   "metadata": {},
   "outputs": [
    {
     "output_type": "stream",
     "name": "stdout",
     "text": [
      "\u001b[5m\u001b[7m\u001b[37m[04/25/2021-15:12:43]: \u001b[0mConnecting to PostgeSQL ...\n",
      "\u001b[5m\u001b[7m\u001b[37m[04/25/2021-15:12:44]: \u001b[0mQueryng table us_mort ...\n",
      "\u001b[5m\u001b[7m\u001b[37m[04/25/2021-15:12:45]: \u001b[0m\u001b[5m\u001b[7m\u001b[32mOK: Sucesfully importred us_mort into dataframe columns: 10 - rows: 6239\u001b[0m\n",
      "\u001b[5m\u001b[7m\u001b[37m[04/25/2021-15:12:45]: \u001b[0mClosing DB connection...\n"
     ]
    }
   ],
   "source": [
    "us_mort = postgresql.getTableToDataframe('us_mort')"
   ]
  },
  {
   "cell_type": "code",
   "execution_count": 26,
   "metadata": {},
   "outputs": [
    {
     "output_type": "stream",
     "name": "stdout",
     "text": [
      "\u001b[5m\u001b[7m\u001b[37m[04/25/2021-15:12:45]: \u001b[0mConnecting to PostgeSQL ...\n",
      "\u001b[5m\u001b[7m\u001b[37m[04/25/2021-15:12:45]: \u001b[0mQueryng table world_mort ...\n",
      "\u001b[5m\u001b[7m\u001b[37m[04/25/2021-15:12:47]: \u001b[0m\u001b[5m\u001b[7m\u001b[32mOK: Sucesfully importred world_mort into dataframe columns: 28 - rows: 5931\u001b[0m\n",
      "\u001b[5m\u001b[7m\u001b[37m[04/25/2021-15:12:47]: \u001b[0mClosing DB connection...\n"
     ]
    }
   ],
   "source": [
    "world_mort = postgresql.getTableToDataframe('world_mort')"
   ]
  },
  {
   "cell_type": "code",
   "execution_count": 27,
   "metadata": {},
   "outputs": [
    {
     "output_type": "execute_result",
     "data": {
      "text/plain": [
       "   _id month      age_group   education employement      marital state_death  \\\n",
       "0    1  Jan   55 - 64 years  Elementary      farmer  partnership        QUE    \n",
       "1    2  Jan   75 - 84 years        None      farmer      married        GUA    \n",
       "2    3  Feb   55 - 64 years  Elementary      farmer       single        VER    \n",
       "3    4  May   65 - 74 years  Elementary  unemployed      married        MEX    \n",
       "4    5  Feb   75 - 84 years     Unknown  unemployed      married        CAM    \n",
       "\n",
       "  type_death       place_death icd10_block                icd10_desc  \\\n",
       "0    natural   public hospital           9  cerebrovascular diseases   \n",
       "1    natural  private hospital           9  cerebrovascular diseases   \n",
       "2    natural   public hospital           9  cerebrovascular diseases   \n",
       "3    natural   public hospital           9  cerebrovascular diseases   \n",
       "4    natural              home           9  cerebrovascular diseases   \n",
       "\n",
       "  icd10_code icd10_group icd10_chapter  is_male  is_work_related  is_foreign  \\\n",
       "0        I61     I60-I69       I00–I99     True            False       False   \n",
       "1        I64     I60-I69       I00–I99     True            False       False   \n",
       "2        I61     I60-I69       I00–I99     True            False       False   \n",
       "3        I67     I60-I69       I00–I99    False            False       False   \n",
       "4        I64     I60-I69       I00–I99    False            False       False   \n",
       "\n",
       "   is_pregnant  is_accident  is_cancer  is_cvd  is_diabetes  is_digestive  \\\n",
       "0        False        False      False    True        False         False   \n",
       "1        False        False      False    True        False         False   \n",
       "2        False        False      False    True        False         False   \n",
       "3        False        False      False    True        False         False   \n",
       "4        False        False      False    True        False         False   \n",
       "\n",
       "   is_mental  is_pregnancy  is_respiratory  is_virus  is_suicide  is_bacteria  \n",
       "0      False         False           False     False       False        False  \n",
       "1      False         False           False     False       False        False  \n",
       "2      False         False           False     False       False        False  \n",
       "3      False         False           False     False       False        False  \n",
       "4      False         False           False     False       False        False  "
      ],
      "text/html": "<div>\n<style scoped>\n    .dataframe tbody tr th:only-of-type {\n        vertical-align: middle;\n    }\n\n    .dataframe tbody tr th {\n        vertical-align: top;\n    }\n\n    .dataframe thead th {\n        text-align: right;\n    }\n</style>\n<table border=\"1\" class=\"dataframe\">\n  <thead>\n    <tr style=\"text-align: right;\">\n      <th></th>\n      <th>_id</th>\n      <th>month</th>\n      <th>age_group</th>\n      <th>education</th>\n      <th>employement</th>\n      <th>marital</th>\n      <th>state_death</th>\n      <th>type_death</th>\n      <th>place_death</th>\n      <th>icd10_block</th>\n      <th>icd10_desc</th>\n      <th>icd10_code</th>\n      <th>icd10_group</th>\n      <th>icd10_chapter</th>\n      <th>is_male</th>\n      <th>is_work_related</th>\n      <th>is_foreign</th>\n      <th>is_pregnant</th>\n      <th>is_accident</th>\n      <th>is_cancer</th>\n      <th>is_cvd</th>\n      <th>is_diabetes</th>\n      <th>is_digestive</th>\n      <th>is_mental</th>\n      <th>is_pregnancy</th>\n      <th>is_respiratory</th>\n      <th>is_virus</th>\n      <th>is_suicide</th>\n      <th>is_bacteria</th>\n    </tr>\n  </thead>\n  <tbody>\n    <tr>\n      <th>0</th>\n      <td>1</td>\n      <td>Jan</td>\n      <td>55 - 64 years</td>\n      <td>Elementary</td>\n      <td>farmer</td>\n      <td>partnership</td>\n      <td>QUE</td>\n      <td>natural</td>\n      <td>public hospital</td>\n      <td>9</td>\n      <td>cerebrovascular diseases</td>\n      <td>I61</td>\n      <td>I60-I69</td>\n      <td>I00–I99</td>\n      <td>True</td>\n      <td>False</td>\n      <td>False</td>\n      <td>False</td>\n      <td>False</td>\n      <td>False</td>\n      <td>True</td>\n      <td>False</td>\n      <td>False</td>\n      <td>False</td>\n      <td>False</td>\n      <td>False</td>\n      <td>False</td>\n      <td>False</td>\n      <td>False</td>\n    </tr>\n    <tr>\n      <th>1</th>\n      <td>2</td>\n      <td>Jan</td>\n      <td>75 - 84 years</td>\n      <td>None</td>\n      <td>farmer</td>\n      <td>married</td>\n      <td>GUA</td>\n      <td>natural</td>\n      <td>private hospital</td>\n      <td>9</td>\n      <td>cerebrovascular diseases</td>\n      <td>I64</td>\n      <td>I60-I69</td>\n      <td>I00–I99</td>\n      <td>True</td>\n      <td>False</td>\n      <td>False</td>\n      <td>False</td>\n      <td>False</td>\n      <td>False</td>\n      <td>True</td>\n      <td>False</td>\n      <td>False</td>\n      <td>False</td>\n      <td>False</td>\n      <td>False</td>\n      <td>False</td>\n      <td>False</td>\n      <td>False</td>\n    </tr>\n    <tr>\n      <th>2</th>\n      <td>3</td>\n      <td>Feb</td>\n      <td>55 - 64 years</td>\n      <td>Elementary</td>\n      <td>farmer</td>\n      <td>single</td>\n      <td>VER</td>\n      <td>natural</td>\n      <td>public hospital</td>\n      <td>9</td>\n      <td>cerebrovascular diseases</td>\n      <td>I61</td>\n      <td>I60-I69</td>\n      <td>I00–I99</td>\n      <td>True</td>\n      <td>False</td>\n      <td>False</td>\n      <td>False</td>\n      <td>False</td>\n      <td>False</td>\n      <td>True</td>\n      <td>False</td>\n      <td>False</td>\n      <td>False</td>\n      <td>False</td>\n      <td>False</td>\n      <td>False</td>\n      <td>False</td>\n      <td>False</td>\n    </tr>\n    <tr>\n      <th>3</th>\n      <td>4</td>\n      <td>May</td>\n      <td>65 - 74 years</td>\n      <td>Elementary</td>\n      <td>unemployed</td>\n      <td>married</td>\n      <td>MEX</td>\n      <td>natural</td>\n      <td>public hospital</td>\n      <td>9</td>\n      <td>cerebrovascular diseases</td>\n      <td>I67</td>\n      <td>I60-I69</td>\n      <td>I00–I99</td>\n      <td>False</td>\n      <td>False</td>\n      <td>False</td>\n      <td>False</td>\n      <td>False</td>\n      <td>False</td>\n      <td>True</td>\n      <td>False</td>\n      <td>False</td>\n      <td>False</td>\n      <td>False</td>\n      <td>False</td>\n      <td>False</td>\n      <td>False</td>\n      <td>False</td>\n    </tr>\n    <tr>\n      <th>4</th>\n      <td>5</td>\n      <td>Feb</td>\n      <td>75 - 84 years</td>\n      <td>Unknown</td>\n      <td>unemployed</td>\n      <td>married</td>\n      <td>CAM</td>\n      <td>natural</td>\n      <td>home</td>\n      <td>9</td>\n      <td>cerebrovascular diseases</td>\n      <td>I64</td>\n      <td>I60-I69</td>\n      <td>I00–I99</td>\n      <td>False</td>\n      <td>False</td>\n      <td>False</td>\n      <td>False</td>\n      <td>False</td>\n      <td>False</td>\n      <td>True</td>\n      <td>False</td>\n      <td>False</td>\n      <td>False</td>\n      <td>False</td>\n      <td>False</td>\n      <td>False</td>\n      <td>False</td>\n      <td>False</td>\n    </tr>\n  </tbody>\n</table>\n</div>"
     },
     "metadata": {},
     "execution_count": 27
    }
   ],
   "source": [
    "mex_mort.head()\n"
   ]
  },
  {
   "cell_type": "code",
   "execution_count": 28,
   "metadata": {},
   "outputs": [
    {
     "output_type": "execute_result",
     "data": {
      "text/plain": [
       "   index icd10_code   marital month       place_death day_of_death  \\\n",
       "0      0       C349   married   Feb              home       friday   \n",
       "1      1       J100  divorced   Dec   public hospital     thursday   \n",
       "2      2        F03   widowed   May              home     thursday   \n",
       "3      3        N19   widowed   Oct  private hospital    wednesday   \n",
       "4      4       K760    single   May   public hospital     thursday   \n",
       "\n",
       "           resident_status        race          age_group type_death  \n",
       "0             US_residents       White        65-74 years       None  \n",
       "1             US_residents       Black        65-74 years       None  \n",
       "2             US_residents  Vietnamese  85 years and over       None  \n",
       "3  intrastate_nonresidents       Black        75-84 years       None  \n",
       "4             US_residents       White        45-54 years       None  "
      ],
      "text/html": "<div>\n<style scoped>\n    .dataframe tbody tr th:only-of-type {\n        vertical-align: middle;\n    }\n\n    .dataframe tbody tr th {\n        vertical-align: top;\n    }\n\n    .dataframe thead th {\n        text-align: right;\n    }\n</style>\n<table border=\"1\" class=\"dataframe\">\n  <thead>\n    <tr style=\"text-align: right;\">\n      <th></th>\n      <th>index</th>\n      <th>icd10_code</th>\n      <th>marital</th>\n      <th>month</th>\n      <th>place_death</th>\n      <th>day_of_death</th>\n      <th>resident_status</th>\n      <th>race</th>\n      <th>age_group</th>\n      <th>type_death</th>\n    </tr>\n  </thead>\n  <tbody>\n    <tr>\n      <th>0</th>\n      <td>0</td>\n      <td>C349</td>\n      <td>married</td>\n      <td>Feb</td>\n      <td>home</td>\n      <td>friday</td>\n      <td>US_residents</td>\n      <td>White</td>\n      <td>65-74 years</td>\n      <td>None</td>\n    </tr>\n    <tr>\n      <th>1</th>\n      <td>1</td>\n      <td>J100</td>\n      <td>divorced</td>\n      <td>Dec</td>\n      <td>public hospital</td>\n      <td>thursday</td>\n      <td>US_residents</td>\n      <td>Black</td>\n      <td>65-74 years</td>\n      <td>None</td>\n    </tr>\n    <tr>\n      <th>2</th>\n      <td>2</td>\n      <td>F03</td>\n      <td>widowed</td>\n      <td>May</td>\n      <td>home</td>\n      <td>thursday</td>\n      <td>US_residents</td>\n      <td>Vietnamese</td>\n      <td>85 years and over</td>\n      <td>None</td>\n    </tr>\n    <tr>\n      <th>3</th>\n      <td>3</td>\n      <td>N19</td>\n      <td>widowed</td>\n      <td>Oct</td>\n      <td>private hospital</td>\n      <td>wednesday</td>\n      <td>intrastate_nonresidents</td>\n      <td>Black</td>\n      <td>75-84 years</td>\n      <td>None</td>\n    </tr>\n    <tr>\n      <th>4</th>\n      <td>4</td>\n      <td>K760</td>\n      <td>single</td>\n      <td>May</td>\n      <td>public hospital</td>\n      <td>thursday</td>\n      <td>US_residents</td>\n      <td>White</td>\n      <td>45-54 years</td>\n      <td>None</td>\n    </tr>\n  </tbody>\n</table>\n</div>"
     },
     "metadata": {},
     "execution_count": 28
    }
   ],
   "source": [
    "us_mort.head()"
   ]
  },
  {
   "cell_type": "code",
   "execution_count": 29,
   "metadata": {},
   "outputs": [
    {
     "output_type": "execute_result",
     "data": {
      "text/plain": [
       "  CountryCode  Year icd10  Age_Recode Autopsy     D0_14      D15_64  D65_74  \\\n",
       "0         BEL  2019  E149          10       N  5.000000  123.000000   137.0   \n",
       "1         AUT  2019  E149           8       N  5.000000  148.000000   164.0   \n",
       "2         AUT  2019  E119           8       N  8.000000  221.000000   232.0   \n",
       "3         BEL  2019  E112          10       N  5.000000  197.000000   198.0   \n",
       "4        AUS2  2019  E872          11       N  4.422566  135.577434   173.0   \n",
       "\n",
       "   D75_84   D85p  DTotal     R0_14    R15_64    R65_74    R75_84      R85p  \\\n",
       "0   228.0  499.0   992.0  0.000274  0.001752  0.011773  0.029962  0.117244   \n",
       "1   248.0  265.0   830.0  0.000396  0.002602  0.021791  0.048558  0.186423   \n",
       "2   419.0  617.0  1497.0  0.000326  0.001958  0.014390  0.035240  0.141726   \n",
       "3   293.0  311.0  1004.0  0.000262  0.002761  0.018552  0.050900  0.147818   \n",
       "4   358.0  709.0  1380.0  0.000100  0.000852  0.007701  0.028165  0.116040   \n",
       "\n",
       "     RTotal  Split  SplitSex  Forecast month   marital type_death   sex  \\\n",
       "0  0.008861      0         0         1   Apr   married    natural  male   \n",
       "1  0.009933      0         0         1   Sep   married    natural  male   \n",
       "2  0.008819      0         0         1   Mar  divorced    natural  male   \n",
       "3  0.009215      0         0         1   Dec   married    natural  male   \n",
       "4  0.005639      1         0         1   Jan   married    natural  male   \n",
       "\n",
       "  day_of_death   race icd10_chapter icd10_block  \n",
       "0       friday  White       F00–F99           5  \n",
       "1    wednesday  White       F00–F99           5  \n",
       "2     thursday  White       F00–F99           5  \n",
       "3     thursday  Black       F00–F99           5  \n",
       "4       friday  White       F00–F99           5  "
      ],
      "text/html": "<div>\n<style scoped>\n    .dataframe tbody tr th:only-of-type {\n        vertical-align: middle;\n    }\n\n    .dataframe tbody tr th {\n        vertical-align: top;\n    }\n\n    .dataframe thead th {\n        text-align: right;\n    }\n</style>\n<table border=\"1\" class=\"dataframe\">\n  <thead>\n    <tr style=\"text-align: right;\">\n      <th></th>\n      <th>CountryCode</th>\n      <th>Year</th>\n      <th>icd10</th>\n      <th>Age_Recode</th>\n      <th>Autopsy</th>\n      <th>D0_14</th>\n      <th>D15_64</th>\n      <th>D65_74</th>\n      <th>D75_84</th>\n      <th>D85p</th>\n      <th>DTotal</th>\n      <th>R0_14</th>\n      <th>R15_64</th>\n      <th>R65_74</th>\n      <th>R75_84</th>\n      <th>R85p</th>\n      <th>RTotal</th>\n      <th>Split</th>\n      <th>SplitSex</th>\n      <th>Forecast</th>\n      <th>month</th>\n      <th>marital</th>\n      <th>type_death</th>\n      <th>sex</th>\n      <th>day_of_death</th>\n      <th>race</th>\n      <th>icd10_chapter</th>\n      <th>icd10_block</th>\n    </tr>\n  </thead>\n  <tbody>\n    <tr>\n      <th>0</th>\n      <td>BEL</td>\n      <td>2019</td>\n      <td>E149</td>\n      <td>10</td>\n      <td>N</td>\n      <td>5.000000</td>\n      <td>123.000000</td>\n      <td>137.0</td>\n      <td>228.0</td>\n      <td>499.0</td>\n      <td>992.0</td>\n      <td>0.000274</td>\n      <td>0.001752</td>\n      <td>0.011773</td>\n      <td>0.029962</td>\n      <td>0.117244</td>\n      <td>0.008861</td>\n      <td>0</td>\n      <td>0</td>\n      <td>1</td>\n      <td>Apr</td>\n      <td>married</td>\n      <td>natural</td>\n      <td>male</td>\n      <td>friday</td>\n      <td>White</td>\n      <td>F00–F99</td>\n      <td>5</td>\n    </tr>\n    <tr>\n      <th>1</th>\n      <td>AUT</td>\n      <td>2019</td>\n      <td>E149</td>\n      <td>8</td>\n      <td>N</td>\n      <td>5.000000</td>\n      <td>148.000000</td>\n      <td>164.0</td>\n      <td>248.0</td>\n      <td>265.0</td>\n      <td>830.0</td>\n      <td>0.000396</td>\n      <td>0.002602</td>\n      <td>0.021791</td>\n      <td>0.048558</td>\n      <td>0.186423</td>\n      <td>0.009933</td>\n      <td>0</td>\n      <td>0</td>\n      <td>1</td>\n      <td>Sep</td>\n      <td>married</td>\n      <td>natural</td>\n      <td>male</td>\n      <td>wednesday</td>\n      <td>White</td>\n      <td>F00–F99</td>\n      <td>5</td>\n    </tr>\n    <tr>\n      <th>2</th>\n      <td>AUT</td>\n      <td>2019</td>\n      <td>E119</td>\n      <td>8</td>\n      <td>N</td>\n      <td>8.000000</td>\n      <td>221.000000</td>\n      <td>232.0</td>\n      <td>419.0</td>\n      <td>617.0</td>\n      <td>1497.0</td>\n      <td>0.000326</td>\n      <td>0.001958</td>\n      <td>0.014390</td>\n      <td>0.035240</td>\n      <td>0.141726</td>\n      <td>0.008819</td>\n      <td>0</td>\n      <td>0</td>\n      <td>1</td>\n      <td>Mar</td>\n      <td>divorced</td>\n      <td>natural</td>\n      <td>male</td>\n      <td>thursday</td>\n      <td>White</td>\n      <td>F00–F99</td>\n      <td>5</td>\n    </tr>\n    <tr>\n      <th>3</th>\n      <td>BEL</td>\n      <td>2019</td>\n      <td>E112</td>\n      <td>10</td>\n      <td>N</td>\n      <td>5.000000</td>\n      <td>197.000000</td>\n      <td>198.0</td>\n      <td>293.0</td>\n      <td>311.0</td>\n      <td>1004.0</td>\n      <td>0.000262</td>\n      <td>0.002761</td>\n      <td>0.018552</td>\n      <td>0.050900</td>\n      <td>0.147818</td>\n      <td>0.009215</td>\n      <td>0</td>\n      <td>0</td>\n      <td>1</td>\n      <td>Dec</td>\n      <td>married</td>\n      <td>natural</td>\n      <td>male</td>\n      <td>thursday</td>\n      <td>Black</td>\n      <td>F00–F99</td>\n      <td>5</td>\n    </tr>\n    <tr>\n      <th>4</th>\n      <td>AUS2</td>\n      <td>2019</td>\n      <td>E872</td>\n      <td>11</td>\n      <td>N</td>\n      <td>4.422566</td>\n      <td>135.577434</td>\n      <td>173.0</td>\n      <td>358.0</td>\n      <td>709.0</td>\n      <td>1380.0</td>\n      <td>0.000100</td>\n      <td>0.000852</td>\n      <td>0.007701</td>\n      <td>0.028165</td>\n      <td>0.116040</td>\n      <td>0.005639</td>\n      <td>1</td>\n      <td>0</td>\n      <td>1</td>\n      <td>Jan</td>\n      <td>married</td>\n      <td>natural</td>\n      <td>male</td>\n      <td>friday</td>\n      <td>White</td>\n      <td>F00–F99</td>\n      <td>5</td>\n    </tr>\n  </tbody>\n</table>\n</div>"
     },
     "metadata": {},
     "execution_count": 29
    }
   ],
   "source": [
    "world_mort.head()"
   ]
  },
  {
   "cell_type": "code",
   "execution_count": 12,
   "metadata": {},
   "outputs": [],
   "source": [
    "# Import Plotting libraries\n",
    "import matplotlib.pyplot  as plt\n",
    "import matplotlib.style as style \n",
    "import seaborn as sns"
   ]
  },
  {
   "cell_type": "code",
   "execution_count": 13,
   "metadata": {},
   "outputs": [],
   "source": [
    "#sns.set_theme('bmh')\n",
    "#plt.style.use('plot-style-name-goes-here')\n",
    "sns.set()\n",
    "sns.set_context('poster',rc={\"grid.linewidth\": 5})\n",
    "sns.set_style(\"whitegrid\")\n",
    "#sns.set_context(\"notebook\")\n",
    "colors = [\"#5998B1\",\"#406F82\",\"#264653\",\"#287271\",\"#2a9d8f\",\"#8AB17D\",\"#E9C46A\",\"#EFB366\",\"#F4A261\",\"#E76F51\",\"#C53D1B\",\"#923B26\"]\n",
    "#colors = [\"#345E6F\",\"#264653\",\"#287271\",\"#2a9d8f\",\"#e9c46a\",\"#efb366\",\"#f4a261\",\"#ee8959\",\"#e76f51\",\"#e87153\",\"#e97c61\", '#902C14']\n",
    "f_folors = [\"#E76F51\",\"#F4A261\",\"#E9C46A\",\"#2A9D8F\",\"#264653\"]\n",
    "\n",
    "bin_colors = [\"#264653\",\"#2A9D8F\"]\n",
    "sns.set_palette(sns.color_palette(colors))\n",
    "mul_palette = sns.color_palette(colors)\n",
    "bin_palette = sns.color_palette(bin_colors)\n",
    "f_palette = sns.color_palette(f_folors)\n",
    "sns.set(rc={'figure.figsize':(10,5)}, font_scale=1.5)\n",
    "sns.set_style({'axes.facecolor':'white', 'grid.color': '.8','grid.linestyle': '--'})"
   ]
  },
  {
   "cell_type": "code",
   "execution_count": 23,
   "metadata": {},
   "outputs": [
    {
     "output_type": "execute_result",
     "data": {
      "text/plain": [
       "Empty DataFrame\n",
       "Columns: [CountryCode, Year, icd10, Age_Recode, Autopsy, D0_14, D15_64, D65_74, D75_84, D85p, DTotal, R0_14, R15_64, R65_74, R75_84, R85p, RTotal, Split, SplitSex, Forecast, month, marital, type_death, sex, day_of_death, race, icd10_chapter, icd10_block]\n",
       "Index: []"
      ],
      "text/html": "<div>\n<style scoped>\n    .dataframe tbody tr th:only-of-type {\n        vertical-align: middle;\n    }\n\n    .dataframe tbody tr th {\n        vertical-align: top;\n    }\n\n    .dataframe thead th {\n        text-align: right;\n    }\n</style>\n<table border=\"1\" class=\"dataframe\">\n  <thead>\n    <tr style=\"text-align: right;\">\n      <th></th>\n      <th>CountryCode</th>\n      <th>Year</th>\n      <th>icd10</th>\n      <th>Age_Recode</th>\n      <th>Autopsy</th>\n      <th>D0_14</th>\n      <th>D15_64</th>\n      <th>D65_74</th>\n      <th>D75_84</th>\n      <th>D85p</th>\n      <th>DTotal</th>\n      <th>R0_14</th>\n      <th>R15_64</th>\n      <th>R65_74</th>\n      <th>R75_84</th>\n      <th>R85p</th>\n      <th>RTotal</th>\n      <th>Split</th>\n      <th>SplitSex</th>\n      <th>Forecast</th>\n      <th>month</th>\n      <th>marital</th>\n      <th>type_death</th>\n      <th>sex</th>\n      <th>day_of_death</th>\n      <th>race</th>\n      <th>icd10_chapter</th>\n      <th>icd10_block</th>\n    </tr>\n  </thead>\n  <tbody>\n  </tbody>\n</table>\n</div>"
     },
     "metadata": {},
     "execution_count": 23
    }
   ],
   "source": [
    "world_mort[world_mort.CountryCode == 'US']"
   ]
  },
  {
   "cell_type": "code",
   "execution_count": null,
   "metadata": {},
   "outputs": [],
   "source": []
  }
 ]
}