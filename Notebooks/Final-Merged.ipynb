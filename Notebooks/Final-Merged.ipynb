{
 "metadata": {
  "language_info": {
   "codemirror_mode": {
    "name": "ipython",
    "version": 3
   },
   "file_extension": ".py",
   "mimetype": "text/x-python",
   "name": "python",
   "nbconvert_exporter": "python",
   "pygments_lexer": "ipython3",
   "version": "3.8.5"
  },
  "orig_nbformat": 2,
  "kernelspec": {
   "name": "python385jvsc74a57bd070aababfa2aa16317aa9cdd5e0fa4069569d3279b0dcee085ecf1881ee1c2d9b",
   "display_name": "Python 3.8.5 64-bit ('base': conda)"
  },
  "metadata": {
   "interpreter": {
    "hash": "70aababfa2aa16317aa9cdd5e0fa4069569d3279b0dcee085ecf1881ee1c2d9b"
   }
  }
 },
 "nbformat": 4,
 "nbformat_minor": 2,
 "cells": [
  {
   "source": [
    "# Project 2021\n",
    "\n",
    "#### MSc in Data Analytics 2021 \n",
    "#### National College of Ireland \n",
    "#### Dublin, Ireland \n",
    "#### Module: Database and Analytics Programming (H9DAP)\n",
    "#### Lecturer: Athanasios Staikopoulos"
   ],
   "cell_type": "markdown",
   "metadata": {}
  },
  {
   "source": [
    "Load Libraries"
   ],
   "cell_type": "markdown",
   "metadata": {}
  },
  {
   "cell_type": "code",
   "execution_count": 4,
   "metadata": {},
   "outputs": [
    {
     "output_type": "stream",
     "name": "stdout",
     "text": [
      "The autoreload extension is already loaded. To reload it, use:\n  %reload_ext autoreload\n"
     ]
    }
   ],
   "source": [
    "#Allows to reload custom module modifications\n",
    "%load_ext autoreload\n",
    "%autoreload 2"
   ]
  },
  {
   "source": [
    "# Import libraries"
   ],
   "cell_type": "markdown",
   "metadata": {}
  },
  {
   "cell_type": "code",
   "execution_count": 10,
   "metadata": {},
   "outputs": [],
   "source": [
    "#Import libraries\n",
    "import pandas as pd\n",
    "#Imports custom functions from 'mypackage'\n",
    "from  mypackage import functions  # Custom  misc functions\n",
    "from  mypackage import mongo      # Custom functions for MongoDB\n",
    "from  mypackage import postgresql # Custom functions for PostgreSQL"
   ]
  },
  {
   "source": [
    "# Upload DataSet\n"
   ],
   "cell_type": "markdown",
   "metadata": {}
  },
  {
   "cell_type": "code",
   "execution_count": 12,
   "metadata": {},
   "outputs": [
    {
     "output_type": "stream",
     "name": "stdout",
     "text": [
      "\u001b[5m\u001b[7m\u001b[37m[04/25/2021-16:01:08]: \u001b[0m\u001b[5m\u001b[7m\u001b[34mNOTICE: Database:   Dataset01  \n\t\t\t       Objects:    10,469 \n\t\t\t       Collectons: 1 \n\t\t\t       Size:       3,179.47 (0.6%)\u001b[0m\n"
     ]
    }
   ],
   "source": [
    "# Print the Selected DB and Collection status\n",
    "dbname = 'Dataset01' #Name of the database to store the data\n",
    "collname = 'mex_mort_raw' #Name of the collection to store the data\n",
    "mongo.getDBStatistics(dbname)"
   ]
  },
  {
   "cell_type": "code",
   "execution_count": 13,
   "metadata": {},
   "outputs": [
    {
     "output_type": "stream",
     "name": "stdout",
     "text": [
      "\u001b[5m\u001b[7m\u001b[37m[04/25/2021-16:01:09]: \u001b[0mConnecting to PostgeSQL ...\n",
      "\u001b[5m\u001b[7m\u001b[37m[04/25/2021-16:01:09]: \u001b[0mQueryng table mex_mort ...\n",
      "\u001b[5m\u001b[7m\u001b[37m[04/25/2021-16:01:11]: \u001b[0m\u001b[5m\u001b[7m\u001b[32mOK: Sucesfully importred mex_mort into dataframe columns: 29 - rows: 10469\u001b[0m\n",
      "\u001b[5m\u001b[7m\u001b[37m[04/25/2021-16:01:11]: \u001b[0mClosing DB connection...\n"
     ]
    }
   ],
   "source": [
    "mex_mort = postgresql.getTableToDataframe('mex_mort')"
   ]
  },
  {
   "cell_type": "code",
   "execution_count": 14,
   "metadata": {},
   "outputs": [
    {
     "output_type": "stream",
     "name": "stdout",
     "text": [
      "\u001b[5m\u001b[7m\u001b[37m[04/25/2021-16:01:13]: \u001b[0mConnecting to PostgeSQL ...\n",
      "\u001b[5m\u001b[7m\u001b[37m[04/25/2021-16:01:13]: \u001b[0mQueryng table us_mort ...\n",
      "\u001b[5m\u001b[7m\u001b[37m[04/25/2021-16:01:14]: \u001b[0m\u001b[5m\u001b[7m\u001b[32mOK: Sucesfully importred us_mort into dataframe columns: 12 - rows: 5781\u001b[0m\n",
      "\u001b[5m\u001b[7m\u001b[37m[04/25/2021-16:01:14]: \u001b[0mClosing DB connection...\n"
     ]
    }
   ],
   "source": [
    "us_mort = postgresql.getTableToDataframe('us_mort')"
   ]
  },
  {
   "cell_type": "code",
   "execution_count": 15,
   "metadata": {},
   "outputs": [
    {
     "output_type": "stream",
     "name": "stdout",
     "text": [
      "\u001b[5m\u001b[7m\u001b[37m[04/25/2021-16:01:17]: \u001b[0mConnecting to PostgeSQL ...\n",
      "\u001b[5m\u001b[7m\u001b[37m[04/25/2021-16:01:17]: \u001b[0mQueryng table world_mort ...\n",
      "\u001b[5m\u001b[7m\u001b[37m[04/25/2021-16:01:18]: \u001b[0m\u001b[5m\u001b[7m\u001b[32mOK: Sucesfully importred world_mort into dataframe columns: 16 - rows: 5514\u001b[0m\n",
      "\u001b[5m\u001b[7m\u001b[37m[04/25/2021-16:01:18]: \u001b[0mClosing DB connection...\n"
     ]
    }
   ],
   "source": [
    "world_mort = postgresql.getTableToDataframe('world_mort')"
   ]
  },
  {
   "cell_type": "code",
   "execution_count": 25,
   "metadata": {},
   "outputs": [
    {
     "output_type": "execute_result",
     "data": {
      "text/plain": [
       "   _id month      age_group   education employement      marital state_death  \\\n",
       "0    1  Jan   55 - 64 years  Elementary      farmer  partnership        QUE    \n",
       "1    2  Jan   75 - 84 years        None      farmer      married        GUA    \n",
       "2    3  Feb   55 - 64 years  Elementary      farmer       single        VER    \n",
       "3    4  May   65 - 74 years  Elementary  unemployed      married        MEX    \n",
       "4    5  Feb   75 - 84 years     Unknown  unemployed      married        CAM    \n",
       "\n",
       "  type_death       place_death icd10_block                icd10_desc  \\\n",
       "0    natural   public hospital           9  cerebrovascular diseases   \n",
       "1    natural  private hospital           9  cerebrovascular diseases   \n",
       "2    natural   public hospital           9  cerebrovascular diseases   \n",
       "3    natural   public hospital           9  cerebrovascular diseases   \n",
       "4    natural              home           9  cerebrovascular diseases   \n",
       "\n",
       "  icd10_code icd10_group icd10_chapter  is_male  is_work_related  is_foreign  \\\n",
       "0        I61     I60-I69       I00–I99     True            False       False   \n",
       "1        I64     I60-I69       I00–I99     True            False       False   \n",
       "2        I61     I60-I69       I00–I99     True            False       False   \n",
       "3        I67     I60-I69       I00–I99    False            False       False   \n",
       "4        I64     I60-I69       I00–I99    False            False       False   \n",
       "\n",
       "   is_pregnant  is_accident  is_cancer  is_cvd  is_diabetes  is_digestive  \\\n",
       "0        False        False      False    True        False         False   \n",
       "1        False        False      False    True        False         False   \n",
       "2        False        False      False    True        False         False   \n",
       "3        False        False      False    True        False         False   \n",
       "4        False        False      False    True        False         False   \n",
       "\n",
       "   is_mental  is_pregnancy  is_respiratory  is_virus  is_suicide  is_bacteria  \n",
       "0      False         False           False     False       False        False  \n",
       "1      False         False           False     False       False        False  \n",
       "2      False         False           False     False       False        False  \n",
       "3      False         False           False     False       False        False  \n",
       "4      False         False           False     False       False        False  "
      ],
      "text/html": "<div>\n<style scoped>\n    .dataframe tbody tr th:only-of-type {\n        vertical-align: middle;\n    }\n\n    .dataframe tbody tr th {\n        vertical-align: top;\n    }\n\n    .dataframe thead th {\n        text-align: right;\n    }\n</style>\n<table border=\"1\" class=\"dataframe\">\n  <thead>\n    <tr style=\"text-align: right;\">\n      <th></th>\n      <th>_id</th>\n      <th>month</th>\n      <th>age_group</th>\n      <th>education</th>\n      <th>employement</th>\n      <th>marital</th>\n      <th>state_death</th>\n      <th>type_death</th>\n      <th>place_death</th>\n      <th>icd10_block</th>\n      <th>icd10_desc</th>\n      <th>icd10_code</th>\n      <th>icd10_group</th>\n      <th>icd10_chapter</th>\n      <th>is_male</th>\n      <th>is_work_related</th>\n      <th>is_foreign</th>\n      <th>is_pregnant</th>\n      <th>is_accident</th>\n      <th>is_cancer</th>\n      <th>is_cvd</th>\n      <th>is_diabetes</th>\n      <th>is_digestive</th>\n      <th>is_mental</th>\n      <th>is_pregnancy</th>\n      <th>is_respiratory</th>\n      <th>is_virus</th>\n      <th>is_suicide</th>\n      <th>is_bacteria</th>\n    </tr>\n  </thead>\n  <tbody>\n    <tr>\n      <th>0</th>\n      <td>1</td>\n      <td>Jan</td>\n      <td>55 - 64 years</td>\n      <td>Elementary</td>\n      <td>farmer</td>\n      <td>partnership</td>\n      <td>QUE</td>\n      <td>natural</td>\n      <td>public hospital</td>\n      <td>9</td>\n      <td>cerebrovascular diseases</td>\n      <td>I61</td>\n      <td>I60-I69</td>\n      <td>I00–I99</td>\n      <td>True</td>\n      <td>False</td>\n      <td>False</td>\n      <td>False</td>\n      <td>False</td>\n      <td>False</td>\n      <td>True</td>\n      <td>False</td>\n      <td>False</td>\n      <td>False</td>\n      <td>False</td>\n      <td>False</td>\n      <td>False</td>\n      <td>False</td>\n      <td>False</td>\n    </tr>\n    <tr>\n      <th>1</th>\n      <td>2</td>\n      <td>Jan</td>\n      <td>75 - 84 years</td>\n      <td>None</td>\n      <td>farmer</td>\n      <td>married</td>\n      <td>GUA</td>\n      <td>natural</td>\n      <td>private hospital</td>\n      <td>9</td>\n      <td>cerebrovascular diseases</td>\n      <td>I64</td>\n      <td>I60-I69</td>\n      <td>I00–I99</td>\n      <td>True</td>\n      <td>False</td>\n      <td>False</td>\n      <td>False</td>\n      <td>False</td>\n      <td>False</td>\n      <td>True</td>\n      <td>False</td>\n      <td>False</td>\n      <td>False</td>\n      <td>False</td>\n      <td>False</td>\n      <td>False</td>\n      <td>False</td>\n      <td>False</td>\n    </tr>\n    <tr>\n      <th>2</th>\n      <td>3</td>\n      <td>Feb</td>\n      <td>55 - 64 years</td>\n      <td>Elementary</td>\n      <td>farmer</td>\n      <td>single</td>\n      <td>VER</td>\n      <td>natural</td>\n      <td>public hospital</td>\n      <td>9</td>\n      <td>cerebrovascular diseases</td>\n      <td>I61</td>\n      <td>I60-I69</td>\n      <td>I00–I99</td>\n      <td>True</td>\n      <td>False</td>\n      <td>False</td>\n      <td>False</td>\n      <td>False</td>\n      <td>False</td>\n      <td>True</td>\n      <td>False</td>\n      <td>False</td>\n      <td>False</td>\n      <td>False</td>\n      <td>False</td>\n      <td>False</td>\n      <td>False</td>\n      <td>False</td>\n    </tr>\n    <tr>\n      <th>3</th>\n      <td>4</td>\n      <td>May</td>\n      <td>65 - 74 years</td>\n      <td>Elementary</td>\n      <td>unemployed</td>\n      <td>married</td>\n      <td>MEX</td>\n      <td>natural</td>\n      <td>public hospital</td>\n      <td>9</td>\n      <td>cerebrovascular diseases</td>\n      <td>I67</td>\n      <td>I60-I69</td>\n      <td>I00–I99</td>\n      <td>False</td>\n      <td>False</td>\n      <td>False</td>\n      <td>False</td>\n      <td>False</td>\n      <td>False</td>\n      <td>True</td>\n      <td>False</td>\n      <td>False</td>\n      <td>False</td>\n      <td>False</td>\n      <td>False</td>\n      <td>False</td>\n      <td>False</td>\n      <td>False</td>\n    </tr>\n    <tr>\n      <th>4</th>\n      <td>5</td>\n      <td>Feb</td>\n      <td>75 - 84 years</td>\n      <td>Unknown</td>\n      <td>unemployed</td>\n      <td>married</td>\n      <td>CAM</td>\n      <td>natural</td>\n      <td>home</td>\n      <td>9</td>\n      <td>cerebrovascular diseases</td>\n      <td>I64</td>\n      <td>I60-I69</td>\n      <td>I00–I99</td>\n      <td>False</td>\n      <td>False</td>\n      <td>False</td>\n      <td>False</td>\n      <td>False</td>\n      <td>False</td>\n      <td>True</td>\n      <td>False</td>\n      <td>False</td>\n      <td>False</td>\n      <td>False</td>\n      <td>False</td>\n      <td>False</td>\n      <td>False</td>\n      <td>False</td>\n    </tr>\n  </tbody>\n</table>\n</div>"
     },
     "metadata": {},
     "execution_count": 25
    }
   ],
   "source": [
    "mex_mort.head()\n"
   ]
  },
  {
   "cell_type": "code",
   "execution_count": 17,
   "metadata": {},
   "outputs": [
    {
     "output_type": "execute_result",
     "data": {
      "text/plain": [
       "   index icd10_code   marital month      place_death day_of_death  \\\n",
       "0    114       A419    single   Nov  public hospital     saturday   \n",
       "1    274       A199   widowed   Apr  public hospital     saturday   \n",
       "2    290       A419  divorced   Jan  public hospital    wednesday   \n",
       "3    323       A099   married   Nov             home       sunday   \n",
       "4    325       A481  divorced   Feb  public hospital       sunday   \n",
       "\n",
       "           resident_status          age_group   race type_death icd10_chapter  \\\n",
       "0  intrastate_nonresidents        65-74 years  Black       None       A00–B99   \n",
       "1             US_residents        65-74 years  White       None       A00–B99   \n",
       "2             US_residents  85 years and over  White    natural       A00–B99   \n",
       "3             US_residents        55-64 years  White    natural       A00–B99   \n",
       "4             US_residents        45-54 years  White    natural       A00–B99   \n",
       "\n",
       "  icd10_block  \n",
       "0           1  \n",
       "1           1  \n",
       "2           1  \n",
       "3           1  \n",
       "4           1  "
      ],
      "text/html": "<div>\n<style scoped>\n    .dataframe tbody tr th:only-of-type {\n        vertical-align: middle;\n    }\n\n    .dataframe tbody tr th {\n        vertical-align: top;\n    }\n\n    .dataframe thead th {\n        text-align: right;\n    }\n</style>\n<table border=\"1\" class=\"dataframe\">\n  <thead>\n    <tr style=\"text-align: right;\">\n      <th></th>\n      <th>index</th>\n      <th>icd10_code</th>\n      <th>marital</th>\n      <th>month</th>\n      <th>place_death</th>\n      <th>day_of_death</th>\n      <th>resident_status</th>\n      <th>age_group</th>\n      <th>race</th>\n      <th>type_death</th>\n      <th>icd10_chapter</th>\n      <th>icd10_block</th>\n    </tr>\n  </thead>\n  <tbody>\n    <tr>\n      <th>0</th>\n      <td>114</td>\n      <td>A419</td>\n      <td>single</td>\n      <td>Nov</td>\n      <td>public hospital</td>\n      <td>saturday</td>\n      <td>intrastate_nonresidents</td>\n      <td>65-74 years</td>\n      <td>Black</td>\n      <td>None</td>\n      <td>A00–B99</td>\n      <td>1</td>\n    </tr>\n    <tr>\n      <th>1</th>\n      <td>274</td>\n      <td>A199</td>\n      <td>widowed</td>\n      <td>Apr</td>\n      <td>public hospital</td>\n      <td>saturday</td>\n      <td>US_residents</td>\n      <td>65-74 years</td>\n      <td>White</td>\n      <td>None</td>\n      <td>A00–B99</td>\n      <td>1</td>\n    </tr>\n    <tr>\n      <th>2</th>\n      <td>290</td>\n      <td>A419</td>\n      <td>divorced</td>\n      <td>Jan</td>\n      <td>public hospital</td>\n      <td>wednesday</td>\n      <td>US_residents</td>\n      <td>85 years and over</td>\n      <td>White</td>\n      <td>natural</td>\n      <td>A00–B99</td>\n      <td>1</td>\n    </tr>\n    <tr>\n      <th>3</th>\n      <td>323</td>\n      <td>A099</td>\n      <td>married</td>\n      <td>Nov</td>\n      <td>home</td>\n      <td>sunday</td>\n      <td>US_residents</td>\n      <td>55-64 years</td>\n      <td>White</td>\n      <td>natural</td>\n      <td>A00–B99</td>\n      <td>1</td>\n    </tr>\n    <tr>\n      <th>4</th>\n      <td>325</td>\n      <td>A481</td>\n      <td>divorced</td>\n      <td>Feb</td>\n      <td>public hospital</td>\n      <td>sunday</td>\n      <td>US_residents</td>\n      <td>45-54 years</td>\n      <td>White</td>\n      <td>natural</td>\n      <td>A00–B99</td>\n      <td>1</td>\n    </tr>\n  </tbody>\n</table>\n</div>"
     },
     "metadata": {},
     "execution_count": 17
    }
   ],
   "source": [
    "us_mort.head()"
   ]
  },
  {
   "cell_type": "code",
   "execution_count": 18,
   "metadata": {},
   "outputs": [
    {
     "output_type": "execute_result",
     "data": {
      "text/plain": [
       "   index country_code  Year icd10_code autopsy  split  split_sex  forecast  \\\n",
       "0    277          AUT  2019       A419       N      0          0         1   \n",
       "1    300          AUT  2019       A419       N      0          0         1   \n",
       "2    313          AUT  2019       A419       N      0          0         1   \n",
       "3    403          BEL  2019       A410       N      0          0         1   \n",
       "4    501          BGR  2019       A403       N      0          0         1   \n",
       "\n",
       "  month  marital     sex day_of_death    race          age_group  \\\n",
       "0   May  married    male       friday   White        55-64 years   \n",
       "1   Aug  widowed  female       friday   White  85 years and over   \n",
       "2   May  married    male       friday   White        75-84 years   \n",
       "3   Oct  married    male       friday   White        45-54 years   \n",
       "4   Jul  married    male       monday  Korean  85 years and over   \n",
       "\n",
       "  icd10_chapter icd10_block  \n",
       "0       A00–B99           1  \n",
       "1       A00–B99           1  \n",
       "2       A00–B99           1  \n",
       "3       A00–B99           1  \n",
       "4       A00–B99           1  "
      ],
      "text/html": "<div>\n<style scoped>\n    .dataframe tbody tr th:only-of-type {\n        vertical-align: middle;\n    }\n\n    .dataframe tbody tr th {\n        vertical-align: top;\n    }\n\n    .dataframe thead th {\n        text-align: right;\n    }\n</style>\n<table border=\"1\" class=\"dataframe\">\n  <thead>\n    <tr style=\"text-align: right;\">\n      <th></th>\n      <th>index</th>\n      <th>country_code</th>\n      <th>Year</th>\n      <th>icd10_code</th>\n      <th>autopsy</th>\n      <th>split</th>\n      <th>split_sex</th>\n      <th>forecast</th>\n      <th>month</th>\n      <th>marital</th>\n      <th>sex</th>\n      <th>day_of_death</th>\n      <th>race</th>\n      <th>age_group</th>\n      <th>icd10_chapter</th>\n      <th>icd10_block</th>\n    </tr>\n  </thead>\n  <tbody>\n    <tr>\n      <th>0</th>\n      <td>277</td>\n      <td>AUT</td>\n      <td>2019</td>\n      <td>A419</td>\n      <td>N</td>\n      <td>0</td>\n      <td>0</td>\n      <td>1</td>\n      <td>May</td>\n      <td>married</td>\n      <td>male</td>\n      <td>friday</td>\n      <td>White</td>\n      <td>55-64 years</td>\n      <td>A00–B99</td>\n      <td>1</td>\n    </tr>\n    <tr>\n      <th>1</th>\n      <td>300</td>\n      <td>AUT</td>\n      <td>2019</td>\n      <td>A419</td>\n      <td>N</td>\n      <td>0</td>\n      <td>0</td>\n      <td>1</td>\n      <td>Aug</td>\n      <td>widowed</td>\n      <td>female</td>\n      <td>friday</td>\n      <td>White</td>\n      <td>85 years and over</td>\n      <td>A00–B99</td>\n      <td>1</td>\n    </tr>\n    <tr>\n      <th>2</th>\n      <td>313</td>\n      <td>AUT</td>\n      <td>2019</td>\n      <td>A419</td>\n      <td>N</td>\n      <td>0</td>\n      <td>0</td>\n      <td>1</td>\n      <td>May</td>\n      <td>married</td>\n      <td>male</td>\n      <td>friday</td>\n      <td>White</td>\n      <td>75-84 years</td>\n      <td>A00–B99</td>\n      <td>1</td>\n    </tr>\n    <tr>\n      <th>3</th>\n      <td>403</td>\n      <td>BEL</td>\n      <td>2019</td>\n      <td>A410</td>\n      <td>N</td>\n      <td>0</td>\n      <td>0</td>\n      <td>1</td>\n      <td>Oct</td>\n      <td>married</td>\n      <td>male</td>\n      <td>friday</td>\n      <td>White</td>\n      <td>45-54 years</td>\n      <td>A00–B99</td>\n      <td>1</td>\n    </tr>\n    <tr>\n      <th>4</th>\n      <td>501</td>\n      <td>BGR</td>\n      <td>2019</td>\n      <td>A403</td>\n      <td>N</td>\n      <td>0</td>\n      <td>0</td>\n      <td>1</td>\n      <td>Jul</td>\n      <td>married</td>\n      <td>male</td>\n      <td>monday</td>\n      <td>Korean</td>\n      <td>85 years and over</td>\n      <td>A00–B99</td>\n      <td>1</td>\n    </tr>\n  </tbody>\n</table>\n</div>"
     },
     "metadata": {},
     "execution_count": 18
    }
   ],
   "source": [
    "world_mort.head()"
   ]
  },
  {
   "cell_type": "code",
   "execution_count": 30,
   "metadata": {},
   "outputs": [],
   "source": [
    "\n",
    "count_mex=mex_mort.groupby(['icd10_chapter','age_group']).size().unstack(fill_value=0)"
   ]
  },
  {
   "cell_type": "code",
   "execution_count": 33,
   "metadata": {},
   "outputs": [
    {
     "output_type": "execute_result",
     "data": {
      "text/plain": [
       "                _id\n",
       "count  10469.000000\n",
       "mean    5235.000000\n",
       "std     3022.284318\n",
       "min        1.000000\n",
       "25%     2618.000000\n",
       "50%     5235.000000\n",
       "75%     7852.000000\n",
       "max    10469.000000"
      ],
      "text/html": "<div>\n<style scoped>\n    .dataframe tbody tr th:only-of-type {\n        vertical-align: middle;\n    }\n\n    .dataframe tbody tr th {\n        vertical-align: top;\n    }\n\n    .dataframe thead th {\n        text-align: right;\n    }\n</style>\n<table border=\"1\" class=\"dataframe\">\n  <thead>\n    <tr style=\"text-align: right;\">\n      <th></th>\n      <th>_id</th>\n    </tr>\n  </thead>\n  <tbody>\n    <tr>\n      <th>count</th>\n      <td>10469.000000</td>\n    </tr>\n    <tr>\n      <th>mean</th>\n      <td>5235.000000</td>\n    </tr>\n    <tr>\n      <th>std</th>\n      <td>3022.284318</td>\n    </tr>\n    <tr>\n      <th>min</th>\n      <td>1.000000</td>\n    </tr>\n    <tr>\n      <th>25%</th>\n      <td>2618.000000</td>\n    </tr>\n    <tr>\n      <th>50%</th>\n      <td>5235.000000</td>\n    </tr>\n    <tr>\n      <th>75%</th>\n      <td>7852.000000</td>\n    </tr>\n    <tr>\n      <th>max</th>\n      <td>10469.000000</td>\n    </tr>\n  </tbody>\n</table>\n</div>"
     },
     "metadata": {},
     "execution_count": 33
    }
   ],
   "source": [
    "mex_mort.describe()"
   ]
  },
  {
   "cell_type": "code",
   "execution_count": 38,
   "metadata": {},
   "outputs": [],
   "source": [
    "\n",
    "count_mex = mex_mort.icd10_chapter.value_counts()"
   ]
  },
  {
   "cell_type": "code",
   "execution_count": 39,
   "metadata": {},
   "outputs": [],
   "source": [
    "count_us=us_mort.icd10_chapter.value_counts()"
   ]
  },
  {
   "cell_type": "code",
   "execution_count": 40,
   "metadata": {},
   "outputs": [],
   "source": [
    "count_world=world_mort.icd10_chapter.value_counts()"
   ]
  },
  {
   "cell_type": "code",
   "execution_count": 43,
   "metadata": {},
   "outputs": [],
   "source": [
    "count_df= pd.concat([count_mex,count_us,count_world],axis=1)"
   ]
  },
  {
   "cell_type": "code",
   "execution_count": 50,
   "metadata": {},
   "outputs": [
    {
     "output_type": "execute_result",
     "data": {
      "text/plain": [
       "         icd10_chapter  icd10_chapter  icd10_chapter\n",
       "I00–I99           2798         1897.0           1854\n",
       "E00–E90           1689           73.0             50\n",
       "C00–D48           1316           29.0             33\n",
       "V01–Y98           1151           96.0             89\n",
       "J00–J99            980          568.0            583\n",
       "K00–K93            929          273.0            252\n",
       "N00–N99            376          163.0            158\n",
       "A00–B99            294           88.0            112\n",
       "P00–P96            183           16.0             11\n",
       "G00–G99            179          255.0            210\n",
       "R00–R99            172           68.0             68\n",
       "Q00–Q99            113           15.0             16\n",
       "M00–M99             90           42.0             33\n",
       "L00–L99             70            8.0             10\n",
       "F00–F99             69          311.0            278\n",
       "D50–D89             43         1338.0           1265\n",
       "O00–O99             13            4.0              1\n",
       "H00–H59              2          537.0            490\n",
       "H60–H95              2            NaN              1"
      ],
      "text/html": "<div>\n<style scoped>\n    .dataframe tbody tr th:only-of-type {\n        vertical-align: middle;\n    }\n\n    .dataframe tbody tr th {\n        vertical-align: top;\n    }\n\n    .dataframe thead th {\n        text-align: right;\n    }\n</style>\n<table border=\"1\" class=\"dataframe\">\n  <thead>\n    <tr style=\"text-align: right;\">\n      <th></th>\n      <th>icd10_chapter</th>\n      <th>icd10_chapter</th>\n      <th>icd10_chapter</th>\n    </tr>\n  </thead>\n  <tbody>\n    <tr>\n      <th>I00–I99</th>\n      <td>2798</td>\n      <td>1897.0</td>\n      <td>1854</td>\n    </tr>\n    <tr>\n      <th>E00–E90</th>\n      <td>1689</td>\n      <td>73.0</td>\n      <td>50</td>\n    </tr>\n    <tr>\n      <th>C00–D48</th>\n      <td>1316</td>\n      <td>29.0</td>\n      <td>33</td>\n    </tr>\n    <tr>\n      <th>V01–Y98</th>\n      <td>1151</td>\n      <td>96.0</td>\n      <td>89</td>\n    </tr>\n    <tr>\n      <th>J00–J99</th>\n      <td>980</td>\n      <td>568.0</td>\n      <td>583</td>\n    </tr>\n    <tr>\n      <th>K00–K93</th>\n      <td>929</td>\n      <td>273.0</td>\n      <td>252</td>\n    </tr>\n    <tr>\n      <th>N00–N99</th>\n      <td>376</td>\n      <td>163.0</td>\n      <td>158</td>\n    </tr>\n    <tr>\n      <th>A00–B99</th>\n      <td>294</td>\n      <td>88.0</td>\n      <td>112</td>\n    </tr>\n    <tr>\n      <th>P00–P96</th>\n      <td>183</td>\n      <td>16.0</td>\n      <td>11</td>\n    </tr>\n    <tr>\n      <th>G00–G99</th>\n      <td>179</td>\n      <td>255.0</td>\n      <td>210</td>\n    </tr>\n    <tr>\n      <th>R00–R99</th>\n      <td>172</td>\n      <td>68.0</td>\n      <td>68</td>\n    </tr>\n    <tr>\n      <th>Q00–Q99</th>\n      <td>113</td>\n      <td>15.0</td>\n      <td>16</td>\n    </tr>\n    <tr>\n      <th>M00–M99</th>\n      <td>90</td>\n      <td>42.0</td>\n      <td>33</td>\n    </tr>\n    <tr>\n      <th>L00–L99</th>\n      <td>70</td>\n      <td>8.0</td>\n      <td>10</td>\n    </tr>\n    <tr>\n      <th>F00–F99</th>\n      <td>69</td>\n      <td>311.0</td>\n      <td>278</td>\n    </tr>\n    <tr>\n      <th>D50–D89</th>\n      <td>43</td>\n      <td>1338.0</td>\n      <td>1265</td>\n    </tr>\n    <tr>\n      <th>O00–O99</th>\n      <td>13</td>\n      <td>4.0</td>\n      <td>1</td>\n    </tr>\n    <tr>\n      <th>H00–H59</th>\n      <td>2</td>\n      <td>537.0</td>\n      <td>490</td>\n    </tr>\n    <tr>\n      <th>H60–H95</th>\n      <td>2</td>\n      <td>NaN</td>\n      <td>1</td>\n    </tr>\n  </tbody>\n</table>\n</div>"
     },
     "metadata": {},
     "execution_count": 50
    }
   ],
   "source": [
    "count_df"
   ]
  },
  {
   "cell_type": "code",
   "execution_count": 53,
   "metadata": {},
   "outputs": [],
   "source": [
    "#change \n",
    "count_df.columns = ['mex','us','world']"
   ]
  },
  {
   "cell_type": "code",
   "execution_count": 54,
   "metadata": {},
   "outputs": [
    {
     "output_type": "execute_result",
     "data": {
      "text/plain": [
       "          mex      us  world\n",
       "I00–I99  2798  1897.0   1854\n",
       "E00–E90  1689    73.0     50\n",
       "C00–D48  1316    29.0     33\n",
       "V01–Y98  1151    96.0     89\n",
       "J00–J99   980   568.0    583\n",
       "K00–K93   929   273.0    252\n",
       "N00–N99   376   163.0    158\n",
       "A00–B99   294    88.0    112\n",
       "P00–P96   183    16.0     11\n",
       "G00–G99   179   255.0    210\n",
       "R00–R99   172    68.0     68\n",
       "Q00–Q99   113    15.0     16\n",
       "M00–M99    90    42.0     33\n",
       "L00–L99    70     8.0     10\n",
       "F00–F99    69   311.0    278\n",
       "D50–D89    43  1338.0   1265\n",
       "O00–O99    13     4.0      1\n",
       "H00–H59     2   537.0    490\n",
       "H60–H95     2     NaN      1"
      ],
      "text/html": "<div>\n<style scoped>\n    .dataframe tbody tr th:only-of-type {\n        vertical-align: middle;\n    }\n\n    .dataframe tbody tr th {\n        vertical-align: top;\n    }\n\n    .dataframe thead th {\n        text-align: right;\n    }\n</style>\n<table border=\"1\" class=\"dataframe\">\n  <thead>\n    <tr style=\"text-align: right;\">\n      <th></th>\n      <th>mex</th>\n      <th>us</th>\n      <th>world</th>\n    </tr>\n  </thead>\n  <tbody>\n    <tr>\n      <th>I00–I99</th>\n      <td>2798</td>\n      <td>1897.0</td>\n      <td>1854</td>\n    </tr>\n    <tr>\n      <th>E00–E90</th>\n      <td>1689</td>\n      <td>73.0</td>\n      <td>50</td>\n    </tr>\n    <tr>\n      <th>C00–D48</th>\n      <td>1316</td>\n      <td>29.0</td>\n      <td>33</td>\n    </tr>\n    <tr>\n      <th>V01–Y98</th>\n      <td>1151</td>\n      <td>96.0</td>\n      <td>89</td>\n    </tr>\n    <tr>\n      <th>J00–J99</th>\n      <td>980</td>\n      <td>568.0</td>\n      <td>583</td>\n    </tr>\n    <tr>\n      <th>K00–K93</th>\n      <td>929</td>\n      <td>273.0</td>\n      <td>252</td>\n    </tr>\n    <tr>\n      <th>N00–N99</th>\n      <td>376</td>\n      <td>163.0</td>\n      <td>158</td>\n    </tr>\n    <tr>\n      <th>A00–B99</th>\n      <td>294</td>\n      <td>88.0</td>\n      <td>112</td>\n    </tr>\n    <tr>\n      <th>P00–P96</th>\n      <td>183</td>\n      <td>16.0</td>\n      <td>11</td>\n    </tr>\n    <tr>\n      <th>G00–G99</th>\n      <td>179</td>\n      <td>255.0</td>\n      <td>210</td>\n    </tr>\n    <tr>\n      <th>R00–R99</th>\n      <td>172</td>\n      <td>68.0</td>\n      <td>68</td>\n    </tr>\n    <tr>\n      <th>Q00–Q99</th>\n      <td>113</td>\n      <td>15.0</td>\n      <td>16</td>\n    </tr>\n    <tr>\n      <th>M00–M99</th>\n      <td>90</td>\n      <td>42.0</td>\n      <td>33</td>\n    </tr>\n    <tr>\n      <th>L00–L99</th>\n      <td>70</td>\n      <td>8.0</td>\n      <td>10</td>\n    </tr>\n    <tr>\n      <th>F00–F99</th>\n      <td>69</td>\n      <td>311.0</td>\n      <td>278</td>\n    </tr>\n    <tr>\n      <th>D50–D89</th>\n      <td>43</td>\n      <td>1338.0</td>\n      <td>1265</td>\n    </tr>\n    <tr>\n      <th>O00–O99</th>\n      <td>13</td>\n      <td>4.0</td>\n      <td>1</td>\n    </tr>\n    <tr>\n      <th>H00–H59</th>\n      <td>2</td>\n      <td>537.0</td>\n      <td>490</td>\n    </tr>\n    <tr>\n      <th>H60–H95</th>\n      <td>2</td>\n      <td>NaN</td>\n      <td>1</td>\n    </tr>\n  </tbody>\n</table>\n</div>"
     },
     "metadata": {},
     "execution_count": 54
    }
   ],
   "source": [
    "count_df\n"
   ]
  },
  {
   "cell_type": "code",
   "execution_count": 12,
   "metadata": {},
   "outputs": [],
   "source": [
    "# Import Plotting libraries\n",
    "import matplotlib.pyplot  as plt\n",
    "import matplotlib.style as style \n",
    "import seaborn as sns"
   ]
  },
  {
   "cell_type": "code",
   "execution_count": 13,
   "metadata": {},
   "outputs": [],
   "source": [
    "#sns.set_theme('bmh')\n",
    "#plt.style.use('plot-style-name-goes-here')\n",
    "sns.set()\n",
    "sns.set_context('poster',rc={\"grid.linewidth\": 5})\n",
    "sns.set_style(\"whitegrid\")\n",
    "#sns.set_context(\"notebook\")\n",
    "colors = [\"#5998B1\",\"#406F82\",\"#264653\",\"#287271\",\"#2a9d8f\",\"#8AB17D\",\"#E9C46A\",\"#EFB366\",\"#F4A261\",\"#E76F51\",\"#C53D1B\",\"#923B26\"]\n",
    "#colors = [\"#345E6F\",\"#264653\",\"#287271\",\"#2a9d8f\",\"#e9c46a\",\"#efb366\",\"#f4a261\",\"#ee8959\",\"#e76f51\",\"#e87153\",\"#e97c61\", '#902C14']\n",
    "f_folors = [\"#E76F51\",\"#F4A261\",\"#E9C46A\",\"#2A9D8F\",\"#264653\"]\n",
    "\n",
    "bin_colors = [\"#264653\",\"#2A9D8F\"]\n",
    "sns.set_palette(sns.color_palette(colors))\n",
    "mul_palette = sns.color_palette(colors)\n",
    "bin_palette = sns.color_palette(bin_colors)\n",
    "f_palette = sns.color_palette(f_folors)\n",
    "sns.set(rc={'figure.figsize':(10,5)}, font_scale=1.5)\n",
    "sns.set_style({'axes.facecolor':'white', 'grid.color': '.8','grid.linestyle': '--'})"
   ]
  },
  {
   "cell_type": "code",
   "execution_count": 23,
   "metadata": {},
   "outputs": [
    {
     "output_type": "execute_result",
     "data": {
      "text/plain": [
       "Empty DataFrame\n",
       "Columns: [CountryCode, Year, icd10, Age_Recode, Autopsy, D0_14, D15_64, D65_74, D75_84, D85p, DTotal, R0_14, R15_64, R65_74, R75_84, R85p, RTotal, Split, SplitSex, Forecast, month, marital, type_death, sex, day_of_death, race, icd10_chapter, icd10_block]\n",
       "Index: []"
      ],
      "text/html": "<div>\n<style scoped>\n    .dataframe tbody tr th:only-of-type {\n        vertical-align: middle;\n    }\n\n    .dataframe tbody tr th {\n        vertical-align: top;\n    }\n\n    .dataframe thead th {\n        text-align: right;\n    }\n</style>\n<table border=\"1\" class=\"dataframe\">\n  <thead>\n    <tr style=\"text-align: right;\">\n      <th></th>\n      <th>CountryCode</th>\n      <th>Year</th>\n      <th>icd10</th>\n      <th>Age_Recode</th>\n      <th>Autopsy</th>\n      <th>D0_14</th>\n      <th>D15_64</th>\n      <th>D65_74</th>\n      <th>D75_84</th>\n      <th>D85p</th>\n      <th>DTotal</th>\n      <th>R0_14</th>\n      <th>R15_64</th>\n      <th>R65_74</th>\n      <th>R75_84</th>\n      <th>R85p</th>\n      <th>RTotal</th>\n      <th>Split</th>\n      <th>SplitSex</th>\n      <th>Forecast</th>\n      <th>month</th>\n      <th>marital</th>\n      <th>type_death</th>\n      <th>sex</th>\n      <th>day_of_death</th>\n      <th>race</th>\n      <th>icd10_chapter</th>\n      <th>icd10_block</th>\n    </tr>\n  </thead>\n  <tbody>\n  </tbody>\n</table>\n</div>"
     },
     "metadata": {},
     "execution_count": 23
    }
   ],
   "source": [
    "world_mort[world_mort.CountryCode == 'US']"
   ]
  },
  {
   "cell_type": "code",
   "execution_count": null,
   "metadata": {},
   "outputs": [],
   "source": []
  }
 ]
}